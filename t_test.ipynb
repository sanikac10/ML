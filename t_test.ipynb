{
  "nbformat": 4,
  "nbformat_minor": 0,
  "metadata": {
    "colab": {
      "provenance": [],
      "authorship_tag": "ABX9TyPoT3EmPf5xQdXknxfoku7x",
      "include_colab_link": true
    },
    "kernelspec": {
      "name": "python3",
      "display_name": "Python 3"
    },
    "language_info": {
      "name": "python"
    }
  },
  "cells": [
    {
      "cell_type": "markdown",
      "metadata": {
        "id": "view-in-github",
        "colab_type": "text"
      },
      "source": [
        "<a href=\"https://colab.research.google.com/github/sanikac10/ML/blob/main/t_test.ipynb\" target=\"_parent\"><img src=\"https://colab.research.google.com/assets/colab-badge.svg\" alt=\"Open In Colab\"/></a>"
      ]
    },
    {
      "cell_type": "code",
      "execution_count": null,
      "metadata": {
        "id": "C4_ROttttV2z"
      },
      "outputs": [],
      "source": [
        "ages = [10,20,35,50,28,40,55,18,16,55,30,25,43,18,30,28,14,24,16,17,32,35,26,27,65,18,43,23,21,20,19,70]"
      ]
    },
    {
      "cell_type": "code",
      "source": [
        "len(ages)"
      ],
      "metadata": {
        "colab": {
          "base_uri": "https://localhost:8080/"
        },
        "id": "Xi5Un0dSuIOQ",
        "outputId": "afcfd0e5-cff3-4750-abe4-70bde8457bd1"
      },
      "execution_count": null,
      "outputs": [
        {
          "output_type": "execute_result",
          "data": {
            "text/plain": [
              "32"
            ]
          },
          "metadata": {},
          "execution_count": 3
        }
      ]
    },
    {
      "cell_type": "code",
      "source": [
        "import numpy as np\n",
        "ages_mean=np.mean(ages)\n",
        "print(ages_mean)"
      ],
      "metadata": {
        "colab": {
          "base_uri": "https://localhost:8080/"
        },
        "id": "PbuMkZvsuPWR",
        "outputId": "76432064-cfa7-4c93-f7f8-c0004c4437c2"
      },
      "execution_count": null,
      "outputs": [
        {
          "output_type": "stream",
          "name": "stdout",
          "text": [
            "30.34375\n"
          ]
        }
      ]
    },
    {
      "cell_type": "code",
      "source": [
        "#sample"
      ],
      "metadata": {
        "id": "_iog7O_IuRvl"
      },
      "execution_count": null,
      "outputs": []
    },
    {
      "cell_type": "code",
      "source": [
        "sample_size=10\n",
        "age_sample=np.random.choice(ages,sample_size)"
      ],
      "metadata": {
        "id": "OAY21TU0uUO6"
      },
      "execution_count": null,
      "outputs": []
    },
    {
      "cell_type": "code",
      "source": [
        "age_sample"
      ],
      "metadata": {
        "colab": {
          "base_uri": "https://localhost:8080/"
        },
        "id": "gwA4fLfCuVyG",
        "outputId": "8b3edb7a-4b64-4d76-b2d6-2655ae83220c"
      },
      "execution_count": null,
      "outputs": [
        {
          "output_type": "execute_result",
          "data": {
            "text/plain": [
              "array([28, 10, 43, 16, 55, 20, 18, 18, 43, 35])"
            ]
          },
          "metadata": {},
          "execution_count": 7
        }
      ]
    },
    {
      "cell_type": "code",
      "source": [
        "from scipy.stats import ttest_1samp"
      ],
      "metadata": {
        "id": "wzB2lOMvuX9e"
      },
      "execution_count": null,
      "outputs": []
    },
    {
      "cell_type": "code",
      "source": [
        "ttest,p_value=ttest_1samp(age_sample,30)"
      ],
      "metadata": {
        "id": "5T0WbNYQua4d"
      },
      "execution_count": null,
      "outputs": []
    },
    {
      "cell_type": "code",
      "source": [
        "print(p_value)"
      ],
      "metadata": {
        "colab": {
          "base_uri": "https://localhost:8080/"
        },
        "id": "UOKvG387uhq6",
        "outputId": "72f57575-b38d-47a0-8a13-3af4209750f0"
      },
      "execution_count": null,
      "outputs": [
        {
          "output_type": "stream",
          "name": "stdout",
          "text": [
            "0.7707869945606504\n"
          ]
        }
      ]
    },
    {
      "cell_type": "code",
      "source": [
        "if p_value < 0.05:    # alpha value is 0.05 or 5%\n",
        "    print(\" we are rejecting null hypothesis\")\n",
        "else:\n",
        "    print(\"we are accepting null hypothesis\")"
      ],
      "metadata": {
        "id": "oGSLGyxmuj8H",
        "outputId": "83874a5e-3b33-4c6a-f82b-9bea67b79327",
        "colab": {
          "base_uri": "https://localhost:8080/"
        }
      },
      "execution_count": null,
      "outputs": [
        {
          "output_type": "stream",
          "name": "stdout",
          "text": [
            "we are accepting null hypothesis\n"
          ]
        }
      ]
    }
  ]
}